{
  "cells": [
    {
      "cell_type": "code",
      "execution_count": 8,
      "metadata": {
        "id": "9dYgGB6hbC20"
      },
      "outputs": [],
      "source": [
        "import pandas as pd\n"
      ]
    },
    {
      "cell_type": "markdown",
      "metadata": {
        "id": "Rvtl9YLacKNI"
      },
      "source": []
    },
    {
      "cell_type": "code",
      "execution_count": 9,
      "metadata": {
        "colab": {
          "base_uri": "https://localhost:8080/"
        },
        "id": "o0kmqUKHgJOB",
        "outputId": "0ac5874e-c975-49fe-91dd-a93f856ec853"
      },
      "outputs": [
        {
          "name": "stdout",
          "output_type": "stream",
          "text": [
            "Mounted at /content/drive\n"
          ]
        }
      ],
      "source": [
        "from google.colab import drive\n",
        "drive.mount('/content/drive')"
      ]
    },
    {
      "cell_type": "code",
      "execution_count": 10,
      "metadata": {
        "id": "wBX4rS-sliCh"
      },
      "outputs": [],
      "source": [
        "import pandas as pd\n",
        "df=pd.read_csv('/content/drive/MyDrive/Copy of Titanic-Dataset.csv')"
      ]
    },
    {
      "cell_type": "code",
      "execution_count": 11,
      "metadata": {
        "colab": {
          "base_uri": "https://localhost:8080/"
        },
        "id": "Teu5-T38l_fn",
        "outputId": "c0461da4-175e-4ac5-c499-cf6cf287b35e"
      },
      "outputs": [
        {
          "name": "stdout",
          "output_type": "stream",
          "text": [
            "     PassengerId  Survived  Pclass  \\\n",
            "0              1         0       3   \n",
            "1              2         1       1   \n",
            "2              3         1       3   \n",
            "3              4         1       1   \n",
            "4              5         0       3   \n",
            "..           ...       ...     ...   \n",
            "886          887         0       2   \n",
            "887          888         1       1   \n",
            "888          889         0       3   \n",
            "889          890         1       1   \n",
            "890          891         0       3   \n",
            "\n",
            "                                                  Name     Sex   Age  SibSp  \\\n",
            "0                              Braund, Mr. Owen Harris    male  22.0      1   \n",
            "1    Cumings, Mrs. John Bradley (Florence Briggs Th...  female  38.0      1   \n",
            "2                               Heikkinen, Miss. Laina  female  26.0      0   \n",
            "3         Futrelle, Mrs. Jacques Heath (Lily May Peel)  female  35.0      1   \n",
            "4                             Allen, Mr. William Henry    male  35.0      0   \n",
            "..                                                 ...     ...   ...    ...   \n",
            "886                              Montvila, Rev. Juozas    male  27.0      0   \n",
            "887                       Graham, Miss. Margaret Edith  female  19.0      0   \n",
            "888           Johnston, Miss. Catherine Helen \"Carrie\"  female   NaN      1   \n",
            "889                              Behr, Mr. Karl Howell    male  26.0      0   \n",
            "890                                Dooley, Mr. Patrick    male  32.0      0   \n",
            "\n",
            "     Parch            Ticket     Fare Cabin Embarked  \n",
            "0        0         A/5 21171   7.2500   NaN        S  \n",
            "1        0          PC 17599  71.2833   C85        C  \n",
            "2        0  STON/O2. 3101282   7.9250   NaN        S  \n",
            "3        0            113803  53.1000  C123        S  \n",
            "4        0            373450   8.0500   NaN        S  \n",
            "..     ...               ...      ...   ...      ...  \n",
            "886      0            211536  13.0000   NaN        S  \n",
            "887      0            112053  30.0000   B42        S  \n",
            "888      2        W./C. 6607  23.4500   NaN        S  \n",
            "889      0            111369  30.0000  C148        C  \n",
            "890      0            370376   7.7500   NaN        Q  \n",
            "\n",
            "[891 rows x 12 columns]\n"
          ]
        }
      ],
      "source": [
        "print(df)"
      ]
    },
    {
      "cell_type": "code",
      "execution_count": 12,
      "metadata": {
        "id": "wI8kKFTomD9j"
      },
      "outputs": [],
      "source": [
        "titanic = pd.read_csv('/content/drive/MyDrive/Copy of Titanic-Dataset.csv')"
      ]
    },
    {
      "cell_type": "code",
      "execution_count": 13,
      "metadata": {
        "id": "LEmu5clKmkRy"
      },
      "outputs": [],
      "source": [
        "fare=titanic[['Fare']]"
      ]
    },
    {
      "cell_type": "code",
      "execution_count": 14,
      "metadata": {
        "colab": {
          "base_uri": "https://localhost:8080/"
        },
        "id": "cRrr7qYbmq0y",
        "outputId": "75d0096b-eeda-497a-e836-5c02e7e6d991"
      },
      "outputs": [
        {
          "name": "stdout",
          "output_type": "stream",
          "text": [
            "      Fare\n",
            "0   7.2500\n",
            "1  71.2833\n",
            "2   7.9250\n",
            "3  53.1000\n",
            "4   8.0500\n"
          ]
        }
      ],
      "source": [
        "print(fare.head())"
      ]
    },
    {
      "cell_type": "code",
      "execution_count": 15,
      "metadata": {
        "colab": {
          "base_uri": "https://localhost:8080/"
        },
        "id": "5Q6VBEsGm4Y8",
        "outputId": "84607a65-9cbf-4e27-9d3b-84614a3714dd"
      },
      "outputs": [
        {
          "name": "stdout",
          "output_type": "stream",
          "text": [
            "   Pclass   Age\n",
            "0       3  22.0\n",
            "1       1  38.0\n",
            "2       3  26.0\n",
            "3       1  35.0\n",
            "4       3  35.0\n"
          ]
        }
      ],
      "source": [
        "class_age=df[['Pclass','Age']]\n",
        "print(class_age.head())"
      ]
    },
    {
      "cell_type": "code",
      "execution_count": 16,
      "metadata": {
        "colab": {
          "base_uri": "https://localhost:8080/"
        },
        "id": "ZIYXyMIno-0m",
        "outputId": "74f90003-c122-4074-dca6-3256a5d38e4a"
      },
      "outputs": [
        {
          "name": "stdout",
          "output_type": "stream",
          "text": [
            "   Survived     Sex\n",
            "0         0    male\n",
            "1         1  female\n",
            "2         1  female\n",
            "3         1  female\n",
            "4         0    male\n"
          ]
        }
      ],
      "source": [
        "survived_gender=df[['Survived','Sex']]\n",
        "print(survived_gender.head())"
      ]
    },
    {
      "cell_type": "code",
      "execution_count": 17,
      "metadata": {
        "colab": {
          "base_uri": "https://localhost:8080/"
        },
        "id": "Yz67d1aiprLK",
        "outputId": "b524d280-b873-40e0-f647-cff05951810d"
      },
      "outputs": [
        {
          "name": "stdout",
          "output_type": "stream",
          "text": [
            "     PassengerId  Survived  Pclass  \\\n",
            "27            28         0       1   \n",
            "31            32         1       1   \n",
            "88            89         1       1   \n",
            "118          119         0       1   \n",
            "195          196         1       1   \n",
            "\n",
            "                                               Name     Sex   Age  SibSp  \\\n",
            "27                   Fortune, Mr. Charles Alexander    male  19.0      3   \n",
            "31   Spencer, Mrs. William Augustus (Marie Eugenie)  female   NaN      1   \n",
            "88                       Fortune, Miss. Mabel Helen  female  23.0      3   \n",
            "118                        Baxter, Mr. Quigg Edmond    male  24.0      0   \n",
            "195                            Lurette, Miss. Elise  female  58.0      0   \n",
            "\n",
            "     Parch    Ticket      Fare        Cabin Embarked  \n",
            "27       2     19950  263.0000  C23 C25 C27        S  \n",
            "31       0  PC 17569  146.5208          B78        C  \n",
            "88       2     19950  263.0000  C23 C25 C27        S  \n",
            "118      1  PC 17558  247.5208      B58 B60        C  \n",
            "195      0  PC 17569  146.5208          B80        C  \n"
          ]
        }
      ],
      "source": [
        "fare_gt_100=df[df['Fare']>100]\n",
        "print(fare_gt_100.head())"
      ]
    },
    {
      "cell_type": "code",
      "execution_count": 18,
      "metadata": {
        "colab": {
          "base_uri": "https://localhost:8080/"
        },
        "id": "6tpaVnxfp4ja",
        "outputId": "bf434e51-005e-4021-8db6-0f0478587e4d"
      },
      "outputs": [
        {
          "name": "stdout",
          "output_type": "stream",
          "text": [
            "    PassengerId  Survived  Pclass  \\\n",
            "1             2         1       1   \n",
            "3             4         1       1   \n",
            "6             7         0       1   \n",
            "11           12         1       1   \n",
            "23           24         1       1   \n",
            "\n",
            "                                                 Name     Sex   Age  SibSp  \\\n",
            "1   Cumings, Mrs. John Bradley (Florence Briggs Th...  female  38.0      1   \n",
            "3        Futrelle, Mrs. Jacques Heath (Lily May Peel)  female  35.0      1   \n",
            "6                             McCarthy, Mr. Timothy J    male  54.0      0   \n",
            "11                           Bonnell, Miss. Elizabeth  female  58.0      0   \n",
            "23                       Sloper, Mr. William Thompson    male  28.0      0   \n",
            "\n",
            "    Parch    Ticket     Fare Cabin Embarked  \n",
            "1       0  PC 17599  71.2833   C85        C  \n",
            "3       0    113803  53.1000  C123        S  \n",
            "6       0     17463  51.8625   E46        S  \n",
            "11      0    113783  26.5500  C103        S  \n",
            "23      0    113788  35.5000    A6        S  \n"
          ]
        }
      ],
      "source": [
        "first_class=df[df['Pclass']==1]\n",
        "print(first_class.head())"
      ]
    },
    {
      "cell_type": "code",
      "execution_count": 19,
      "metadata": {
        "colab": {
          "base_uri": "https://localhost:8080/"
        },
        "id": "HvQnzrAMr9ZN",
        "outputId": "5fe386f9-81c8-455e-fe68-8452050bd9fb"
      },
      "outputs": [
        {
          "name": "stdout",
          "output_type": "stream",
          "text": [
            "    PassengerId  Survived  Pclass                                  Name  \\\n",
            "9            10         1       2   Nasser, Mrs. Nicholas (Adele Achem)   \n",
            "10           11         1       3       Sandstrom, Miss. Marguerite Rut   \n",
            "14           15         0       3  Vestrom, Miss. Hulda Amanda Adolfina   \n",
            "22           23         1       3           McGowan, Miss. Anna \"Annie\"   \n",
            "24           25         0       3         Palsson, Miss. Torborg Danira   \n",
            "\n",
            "       Sex   Age  SibSp  Parch   Ticket     Fare Cabin Embarked  \n",
            "9   female  14.0      1      0   237736  30.0708   NaN        C  \n",
            "10  female   4.0      1      1  PP 9549  16.7000    G6        S  \n",
            "14  female  14.0      0      0   350406   7.8542   NaN        S  \n",
            "22  female  15.0      0      0   330923   8.0292   NaN        Q  \n",
            "24  female   8.0      3      1   349909  21.0750   NaN        S  \n"
          ]
        }
      ],
      "source": [
        "female_under_18=df[(df['Sex']=='female')&(df['Age']<18)]\n",
        "print(female_under_18.head())"
      ]
    },
    {
      "cell_type": "code",
      "execution_count": 20,
      "metadata": {
        "colab": {
          "base_uri": "https://localhost:8080/"
        },
        "id": "uodAQWyCsOjo",
        "outputId": "1e511d9b-cd84-4fa4-d26a-98998039e84d"
      },
      "outputs": [
        {
          "name": "stdout",
          "output_type": "stream",
          "text": [
            "   PassengerId  Survived  Pclass  \\\n",
            "0            1         0       3   \n",
            "1            2         1       1   \n",
            "2            3         1       3   \n",
            "3            4         1       1   \n",
            "4            5         0       3   \n",
            "\n",
            "                                                Name     Sex   Age  SibSp  \\\n",
            "0                            Braund, Mr. Owen Harris    male  22.0      1   \n",
            "1  Cumings, Mrs. John Bradley (Florence Briggs Th...  female  38.0      1   \n",
            "2                             Heikkinen, Miss. Laina  female  26.0      0   \n",
            "3       Futrelle, Mrs. Jacques Heath (Lily May Peel)  female  35.0      1   \n",
            "4                           Allen, Mr. William Henry    male  35.0      0   \n",
            "\n",
            "   Parch            Ticket     Fare Cabin Embarked  \n",
            "0      0         A/5 21171   7.2500   NaN        S  \n",
            "1      0          PC 17599  71.2833   C85        C  \n",
            "2      0  STON/O2. 3101282   7.9250   NaN        S  \n",
            "3      0            113803  53.1000  C123        S  \n",
            "4      0            373450   8.0500   NaN        S  \n"
          ]
        }
      ],
      "source": [
        "embarked_c_s=df[(df['Embarked']=='C')|(df['Embarked']=='S')]\n",
        "print(embarked_c_s.head())"
      ]
    },
    {
      "cell_type": "code",
      "execution_count": 21,
      "metadata": {
        "colab": {
          "base_uri": "https://localhost:8080/"
        },
        "id": "mylu73-6uGTq",
        "outputId": "c5381652-7588-4099-f2a1-1b7937cf6f7c"
      },
      "outputs": [
        {
          "name": "stdout",
          "output_type": "stream",
          "text": [
            "    PassengerId  Survived  Pclass  \\\n",
            "1             2         1       1   \n",
            "3             4         1       1   \n",
            "6             7         0       1   \n",
            "9            10         1       2   \n",
            "11           12         1       1   \n",
            "\n",
            "                                                 Name     Sex   Age  SibSp  \\\n",
            "1   Cumings, Mrs. John Bradley (Florence Briggs Th...  female  38.0      1   \n",
            "3        Futrelle, Mrs. Jacques Heath (Lily May Peel)  female  35.0      1   \n",
            "6                             McCarthy, Mr. Timothy J    male  54.0      0   \n",
            "9                 Nasser, Mrs. Nicholas (Adele Achem)  female  14.0      1   \n",
            "11                           Bonnell, Miss. Elizabeth  female  58.0      0   \n",
            "\n",
            "    Parch    Ticket     Fare Cabin Embarked  \n",
            "1       0  PC 17599  71.2833   C85        C  \n",
            "3       0    113803  53.1000  C123        S  \n",
            "6       0     17463  51.8625   E46        S  \n",
            "9       0    237736  30.0708   NaN        C  \n",
            "11      0    113783  26.5500  C103        S  \n"
          ]
        }
      ],
      "source": [
        "first_second_class = df[df['Pclass'].isin([1, 2])]\n",
        "print(first_second_class.head())"
      ]
    },
    {
      "cell_type": "code",
      "execution_count": 22,
      "metadata": {
        "id": "NuiBpo_426ql"
      },
      "outputs": [],
      "source": [
        "df['Age'] = df['Age'].fillna(df['Age'].median())"
      ]
    },
    {
      "cell_type": "code",
      "execution_count": 23,
      "metadata": {
        "id": "tnHSzbey2-rJ"
      },
      "outputs": [],
      "source": [
        "df['fare_per_year'] = df['Fare'] / df['Age']"
      ]
    },
    {
      "cell_type": "code",
      "execution_count": 24,
      "metadata": {
        "id": "xeSiRqyF2-2h"
      },
      "outputs": [],
      "source": [
        "high_fare_age=df[df['fare_per_year']>5]"
      ]
    },
    {
      "cell_type": "code",
      "execution_count": 26,
      "metadata": {
        "id": "9aHnz8JY3mKD"
      },
      "outputs": [],
      "source": [
        "high_fare_age=high_fare_age.sort_values(by='fare_per_year',ascending=False)"
      ]
    },
    {
      "cell_type": "code",
      "execution_count": 29,
      "metadata": {
        "colab": {
          "base_uri": "https://localhost:8080/"
        },
        "id": "LNNDUzB25E4H",
        "outputId": "5de2701a-8808-4c27-8606-890749017796"
      },
      "outputs": [
        {
          "name": "stdout",
          "output_type": "stream",
          "text": [
            "                                Name  fare_per_year\n",
            "305   Allison, Master. Hudson Trevor     164.728261\n",
            "297     Allison, Miss. Helen Loraine      75.775000\n",
            "386  Goodwin, Master. Sidney Leonard      46.900000\n",
            "164     Panula, Master. Eino Viljami      39.687500\n",
            "183        Becker, Master. Richard F      39.000000\n"
          ]
        }
      ],
      "source": [
        "result = high_fare_age[['Name','fare_per_year']] # Changed high_fare_age_srt to high_fare_age\n",
        "print(result.head())"
      ]
    },
    {
      "cell_type": "code",
      "execution_count": 31,
      "metadata": {
        "id": "oPYOZisf5N2k"
      },
      "outputs": [],
      "source": [
        "df['fare_per_class']=df['Fare']/df['Pclass']\n",
        "adult_males = df[(df['Age'] >= 18) & (df['Sex'] == 'male')]\n",
        "adult_males_srt = adult_males.sort_values(by='fare_per_class', ascending=False)"
      ]
    },
    {
      "cell_type": "code",
      "execution_count": 32,
      "metadata": {
        "colab": {
          "base_uri": "https://localhost:8080/"
        },
        "id": "YDJly_p66O_V",
        "outputId": "de78adf8-20b2-47fc-9b7d-48431a80ec6f"
      },
      "outputs": [
        {
          "name": "stdout",
          "output_type": "stream",
          "text": [
            "                                   Name   Age  fare_per_class\n",
            "737              Lesurer, Mr. Gustave J  35.0        512.3292\n",
            "679  Cardeza, Mr. Thomas Drake Martinez  36.0        512.3292\n",
            "438                   Fortune, Mr. Mark  64.0        263.0000\n",
            "27       Fortune, Mr. Charles Alexander  19.0        263.0000\n",
            "118            Baxter, Mr. Quigg Edmond  24.0        247.5208\n"
          ]
        }
      ],
      "source": [
        "result = adult_males_srt[['Name', 'Age', 'fare_per_class']]\n",
        "print(result.head())"
      ]
    },
    {
      "cell_type": "code",
      "execution_count": 33,
      "metadata": {
        "colab": {
          "base_uri": "https://localhost:8080/"
        },
        "id": "EahhQT4j66i6",
        "outputId": "b5b9ae2f-1f43-44fe-e1fc-b79e5009884c"
      },
      "outputs": [
        {
          "name": "stdout",
          "output_type": "stream",
          "text": [
            "Total fare revenue: 28693.9493\n"
          ]
        }
      ],
      "source": [
        "total_fare = df['Fare'].sum()\n",
        "print(f\"Total fare revenue: {total_fare}\")"
      ]
    },
    {
      "cell_type": "code",
      "execution_count": 34,
      "metadata": {
        "colab": {
          "base_uri": "https://localhost:8080/"
        },
        "id": "ZG_clQiC7B_F",
        "outputId": "6cead85a-20d2-46e1-ebed-66204ff9faa7"
      },
      "outputs": [
        {
          "name": "stdout",
          "output_type": "stream",
          "text": [
            "Total fare revenue for First Class: 18177.4125\n"
          ]
        }
      ],
      "source": [
        "fare_first_class = df[df['Pclass'] == 1]['Fare'].sum()\n",
        "print(f\"Total fare revenue for First Class: {fare_first_class}\")"
      ]
    },
    {
      "cell_type": "code",
      "execution_count": 35,
      "metadata": {
        "colab": {
          "base_uri": "https://localhost:8080/"
        },
        "id": "MjD2nDSA7TdW",
        "outputId": "5178af67-2e64-414a-ec6f-58236953b4a0"
      },
      "outputs": [
        {
          "name": "stdout",
          "output_type": "stream",
          "text": [
            "Total fare revenue for Second Class: 3801.8417\n"
          ]
        }
      ],
      "source": [
        "fare_second_class = df[df['Pclass'] == 2]['Fare'].sum()\n",
        "print(f\"Total fare revenue for Second Class: {fare_second_class}\")"
      ]
    },
    {
      "cell_type": "code",
      "execution_count": 36,
      "metadata": {
        "colab": {
          "base_uri": "https://localhost:8080/"
        },
        "id": "yWH40k_27efQ",
        "outputId": "8b3762a8-12de-40d7-a194-f7d1601588c7"
      },
      "outputs": [
        {
          "name": "stdout",
          "output_type": "stream",
          "text": [
            "Total fare revenue for Third Class: 6714.6951\n"
          ]
        }
      ],
      "source": [
        "fare_third_class = df[df['Pclass'] == 3]['Fare'].sum()\n",
        "print(f\"Total fare revenue for Third Class: {fare_third_class}\")"
      ]
    },
    {
      "cell_type": "code",
      "execution_count": 37,
      "metadata": {
        "colab": {
          "base_uri": "https://localhost:8080/"
        },
        "id": "2RBViMTw7kvd",
        "outputId": "db80c9e9-2466-40eb-f82e-e9020037151c"
      },
      "outputs": [
        {
          "name": "stdout",
          "output_type": "stream",
          "text": [
            "Class fare totals: [18177.4125, 3801.8417, 6714.6951]\n"
          ]
        }
      ],
      "source": [
        "class_fares = [fare_first_class, fare_second_class, fare_third_class]\n",
        "print(f\"Class fare totals: {class_fares}\")"
      ]
    },
    {
      "cell_type": "code",
      "execution_count": 39,
      "metadata": {
        "colab": {
          "base_uri": "https://localhost:8080/"
        },
        "id": "23KSAnxF7sB_",
        "outputId": "a17fb3a9-fbd7-4524-e195-4c1b81a21418"
      },
      "outputs": [
        {
          "name": "stdout",
          "output_type": "stream",
          "text": [
            "          Class  Fare Proportion (%)\n",
            "0   First Class            63.349288\n",
            "1  Second Class            13.249629\n",
            "2   Third Class            23.401084\n"
          ]
        }
      ],
      "source": [
        "fare_proportion = [fare / total_fare * 100 for fare in class_fares]\n",
        "class_labels = ['First Class', 'Second Class', 'Third Class']\n",
        "result = pd.DataFrame({\n",
        "    'Class': class_labels,\n",
        "    'Fare Proportion (%)': fare_proportion\n",
        "})\n",
        "\n",
        "print(result)"
      ]
    },
    {
      "cell_type": "code",
      "execution_count": 41,
      "metadata": {
        "colab": {
          "base_uri": "https://localhost:8080/"
        },
        "id": "2IFLJZMY72bK",
        "outputId": "25ba5275-126b-4612-bfb3-77c68b68372f"
      },
      "outputs": [
        {
          "name": "stdout",
          "output_type": "stream",
          "text": [
            "    Age age_group\n",
            "0  22.0     adult\n",
            "1  38.0     adult\n",
            "2  26.0     adult\n",
            "3  35.0     adult\n",
            "4  35.0     adult\n"
          ]
        }
      ],
      "source": [
        "def categorize_age(age):\n",
        "    if age < 18:\n",
        "        return 'child'\n",
        "    elif age >= 18 and age < 65:\n",
        "        return 'adult'\n",
        "    else:\n",
        "        return 'senior'\n",
        "\n",
        "df['age_group'] = df['Age'].apply(categorize_age)\n",
        "print(df[['Age', 'age_group']].head())"
      ]
    },
    {
      "cell_type": "code",
      "execution_count": 42,
      "metadata": {
        "colab": {
          "base_uri": "https://localhost:8080/"
        },
        "id": "HPjFh9Zt8Beh",
        "outputId": "07d9a73d-e50f-4c30-8368-a2f60b9b309e"
      },
      "outputs": [
        {
          "name": "stdout",
          "output_type": "stream",
          "text": [
            "Total number of passengers: 891\n"
          ]
        }
      ],
      "source": [
        "total_passengers = len(df)\n",
        "print(f\"Total number of passengers: {total_passengers}\")"
      ]
    },
    {
      "cell_type": "code",
      "execution_count": 43,
      "metadata": {
        "colab": {
          "base_uri": "https://localhost:8080/"
        },
        "id": "XXGFHz_T8Ilx",
        "outputId": "235ffdec-f75d-4e59-f02e-fc2ac4b233a0"
      },
      "outputs": [
        {
          "name": "stdout",
          "output_type": "stream",
          "text": [
            "age_group\n",
            "adult     767\n",
            "child     113\n",
            "senior     11\n",
            "Name: count, dtype: int64\n"
          ]
        }
      ],
      "source": [
        "age_group_counts = df['age_group'].value_counts()\n",
        "print(age_group_counts)"
      ]
    },
    {
      "cell_type": "code",
      "execution_count": 44,
      "metadata": {
        "colab": {
          "base_uri": "https://localhost:8080/"
        },
        "id": "S-HNdjBJ8PVY",
        "outputId": "fd83a46b-da17-468e-ae7e-5638b22c7e28"
      },
      "outputs": [
        {
          "name": "stdout",
          "output_type": "stream",
          "text": [
            "age_group\n",
            "adult     86.083053\n",
            "child     12.682379\n",
            "senior     1.234568\n",
            "Name: count, dtype: float64\n"
          ]
        }
      ],
      "source": [
        "age_group_proportions = (age_group_counts / total_passengers) * 100\n",
        "print(age_group_proportions)"
      ]
    },
    {
      "cell_type": "code",
      "execution_count": 46,
      "metadata": {
        "id": "FU-fNfAD8U8W"
      },
      "outputs": [],
      "source": [
        "age_group_result = pd.DataFrame({\n",
        "    'Age Group': age_group_proportions.index,\n",
        "    'Proportion of Passenger (%)': age_group_proportions.values\n",
        "})"
      ]
    },
    {
      "cell_type": "code",
      "execution_count": 47,
      "metadata": {
        "colab": {
          "base_uri": "https://localhost:8080/"
        },
        "id": "a1pV85Zz8eHT",
        "outputId": "f34c37ab-e4fd-4d8c-85f7-981f4d10392f"
      },
      "outputs": [
        {
          "name": "stdout",
          "output_type": "stream",
          "text": [
            "  Age Group  Proportion of Passenger (%)\n",
            "0     adult                    86.083053\n",
            "1     child                    12.682379\n",
            "2    senior                     1.234568\n"
          ]
        }
      ],
      "source": [
        "print(age_group_result)"
      ]
    }
  ],
  "metadata": {
    "colab": {
      "provenance": []
    },
    "kernelspec": {
      "display_name": "Python 3",
      "name": "python3"
    },
    "language_info": {
      "name": "python"
    }
  },
  "nbformat": 4,
  "nbformat_minor": 0
}
